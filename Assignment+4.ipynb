{
 "cells": [
  {
   "cell_type": "markdown",
   "metadata": {},
   "source": [
    "---\n",
    "\n",
    "_You are currently looking at **version 1.0** of this notebook. To download notebooks and datafiles, as well as get help on Jupyter notebooks in the Coursera platform, visit the [Jupyter Notebook FAQ](https://www.coursera.org/learn/python-data-analysis/resources/0dhYG) course resource._\n",
    "\n",
    "---"
   ]
  },
  {
   "cell_type": "code",
   "execution_count": 130,
   "metadata": {
    "collapsed": true
   },
   "outputs": [],
   "source": [
    "import pandas as pd\n",
    "import numpy as np\n",
    "from scipy.stats import ttest_ind"
   ]
  },
  {
   "cell_type": "markdown",
   "metadata": {},
   "source": [
    "# Assignment 4 - Hypothesis Testing\n",
    "This assignment requires more individual learning than previous assignments - you are encouraged to check out the [pandas documentation](http://pandas.pydata.org/pandas-docs/stable/) to find functions or methods you might not have used yet, or ask questions on [Stack Overflow](http://stackoverflow.com/) and tag them as pandas and python related. And of course, the discussion forums are open for interaction with your peers and the course staff.\n",
    "\n",
    "Definitions:\n",
    "* A _quarter_ is a specific three month period, Q1 is January through March, Q2 is April through June, Q3 is July through September, Q4 is October through December.\n",
    "* A _recession_ is defined as starting with two consecutive quarters of GDP decline, and ending with two consecutive quarters of GDP growth.\n",
    "* A _recession bottom_ is the quarter within a recession which had the lowest GDP.\n",
    "* A _university town_ is a city which has a high percentage of university students compared to the total population of the city.\n",
    "\n",
    "**Hypothesis**: University towns have their mean housing prices less effected by recessions. Run a t-test to compare the ratio of the mean price of houses in university towns the quarter before the recession starts compared to the recession bottom. (`price_ratio=quarter_before_recession/recession_bottom`)\n",
    "\n",
    "The following data files are available for this assignment:\n",
    "* From the [Zillow research data site](http://www.zillow.com/research/data/) there is housing data for the United States. In particular the datafile for [all homes at a city level](http://files.zillowstatic.com/research/public/City/City_Zhvi_AllHomes.csv), ```City_Zhvi_AllHomes.csv```, has median home sale prices at a fine grained level.\n",
    "* From the Wikipedia page on college towns is a list of [university towns in the United States](https://en.wikipedia.org/wiki/List_of_college_towns#College_towns_in_the_United_States) which has been copy and pasted into the file ```university_towns.txt```.\n",
    "* From Bureau of Economic Analysis, US Department of Commerce, the [GDP over time](http://www.bea.gov/national/index.htm#gdp) of the United States in current dollars (use the chained value in 2009 dollars), in quarterly intervals, in the file ```gdplev.xls```. For this assignment, only look at GDP data from the first quarter of 2000 onward.\n",
    "\n",
    "Each function in this assignment below is worth 10%, with the exception of ```run_ttest()```, which is worth 50%."
   ]
  },
  {
   "cell_type": "code",
   "execution_count": 138,
   "metadata": {
    "collapsed": false
   },
   "outputs": [
    {
     "data": {
      "text/html": [
       "<div>\n",
       "<table border=\"1\" class=\"dataframe\">\n",
       "  <thead>\n",
       "    <tr style=\"text-align: right;\">\n",
       "      <th></th>\n",
       "      <th>quater</th>\n",
       "      <th>gdp</th>\n",
       "    </tr>\n",
       "  </thead>\n",
       "  <tbody>\n",
       "    <tr>\n",
       "      <th>0</th>\n",
       "      <td>2000q1</td>\n",
       "      <td>12359.1</td>\n",
       "    </tr>\n",
       "    <tr>\n",
       "      <th>1</th>\n",
       "      <td>2000q2</td>\n",
       "      <td>12592.5</td>\n",
       "    </tr>\n",
       "    <tr>\n",
       "      <th>2</th>\n",
       "      <td>2000q3</td>\n",
       "      <td>12607.7</td>\n",
       "    </tr>\n",
       "    <tr>\n",
       "      <th>3</th>\n",
       "      <td>2000q4</td>\n",
       "      <td>12679.3</td>\n",
       "    </tr>\n",
       "    <tr>\n",
       "      <th>4</th>\n",
       "      <td>2001q1</td>\n",
       "      <td>12643.3</td>\n",
       "    </tr>\n",
       "  </tbody>\n",
       "</table>\n",
       "</div>"
      ],
      "text/plain": [
       "   quater      gdp\n",
       "0  2000q1  12359.1\n",
       "1  2000q2  12592.5\n",
       "2  2000q3  12607.7\n",
       "3  2000q4  12679.3\n",
       "4  2001q1  12643.3"
      ]
     },
     "execution_count": 138,
     "metadata": {},
     "output_type": "execute_result"
    }
   ],
   "source": [
    "# Use this dictionary to map state names to two letter acronyms\n",
    "states = {'OH': 'Ohio', 'KY': 'Kentucky', 'AS': 'American Samoa', 'NV': 'Nevada', 'WY': 'Wyoming', 'NA': 'National', 'AL': 'Alabama', 'MD': 'Maryland', 'AK': 'Alaska', 'UT': 'Utah', 'OR': 'Oregon', 'MT': 'Montana', 'IL': 'Illinois', 'TN': 'Tennessee', 'DC': 'District of Columbia', 'VT': 'Vermont', 'ID': 'Idaho', 'AR': 'Arkansas', 'ME': 'Maine', 'WA': 'Washington', 'HI': 'Hawaii', 'WI': 'Wisconsin', 'MI': 'Michigan', 'IN': 'Indiana', 'NJ': 'New Jersey', 'AZ': 'Arizona', 'GU': 'Guam', 'MS': 'Mississippi', 'PR': 'Puerto Rico', 'NC': 'North Carolina', 'TX': 'Texas', 'SD': 'South Dakota', 'MP': 'Northern Mariana Islands', 'IA': 'Iowa', 'MO': 'Missouri', 'CT': 'Connecticut', 'WV': 'West Virginia', 'SC': 'South Carolina', 'LA': 'Louisiana', 'KS': 'Kansas', 'NY': 'New York', 'NE': 'Nebraska', 'OK': 'Oklahoma', 'FL': 'Florida', 'CA': 'California', 'CO': 'Colorado', 'PA': 'Pennsylvania', 'DE': 'Delaware', 'NM': 'New Mexico', 'RI': 'Rhode Island', 'MN': 'Minnesota', 'VI': 'Virgin Islands', 'NH': 'New Hampshire', 'MA': 'Massachusetts', 'GA': 'Georgia', 'ND': 'North Dakota', 'VA': 'Virginia'}\n",
    "home = pd.read_csv('City_Zhvi_AllHomes.csv')\n",
    "utown = pd.read_table('university_towns.txt',header=-1)\n",
    "gdp = pd.read_excel('gdplev.xls',skiprows=4)\n",
    "gdp = gdp.ix[gdp[gdp.ix[:,4] == '2000q1'].index.tolist()[0]:,[4,6]]\n",
    "gdp.reset_index(drop=True,inplace=True)\n",
    "gdp.columns = ['quater','gdp']\n",
    "gdp.head()\n",
    "# len(gdp)\n",
    "# utown.head()\n",
    "# len(utown)\n",
    "# type(utown)"
   ]
  },
  {
   "cell_type": "code",
   "execution_count": 132,
   "metadata": {
    "collapsed": false
   },
   "outputs": [],
   "source": [
    "def get_list_of_university_towns():\n",
    "    \n",
    "    st = utown[utown.iloc[:,0].str.contains('\\[edit\\]')]\n",
    "    st = st.reset_index()\n",
    "    # # st['index']\n",
    "    st[0] = st[0].apply(lambda x: x.split('[')[0])\n",
    "    # # st = st.loc[np.repeat(st.index.values,st['index'])]\n",
    "\n",
    "    temp = utown.drop(utown.index[st['index']])\n",
    "    temp = temp.reset_index(drop=True)\n",
    "    temp2 = st['index'].diff()[1:]\n",
    "    temp2 = (temp2.append(pd.Series(len(utown)-st['index'].iloc[-1]))-1).astype('int')\n",
    "    # # .append(len(utown)-st['index'])\n",
    "    temp2.reset_index(drop=True,inplace=True)\n",
    "    temp2 = st.loc[np.repeat(st.index.values,temp2)]\n",
    "    temp2.reset_index(drop=True,inplace=True)\n",
    "    temp2.drop('index',axis=1,inplace=True)\n",
    "    answer = pd.DataFrame(temp2[0], columns=['State'])\n",
    "    answer['RegionName'] = temp\n",
    "    answer['RegionName'] = answer['RegionName'].apply(lambda x: x.split('(')[0].rstrip())\n",
    "    # answer\n",
    "    return answer\n",
    "\n",
    "# get_list_of_university_towns()\n",
    "    \n",
    "\n"
   ]
  },
  {
   "cell_type": "code",
   "execution_count": 140,
   "metadata": {
    "collapsed": false
   },
   "outputs": [
    {
     "data": {
      "text/plain": [
       "'2008q3'"
      ]
     },
     "execution_count": 140,
     "metadata": {},
     "output_type": "execute_result"
    }
   ],
   "source": [
    "def get_recession_start():\n",
    "    # answer = []\n",
    "    now = False\n",
    "    for i in range(1,len(gdp)-1):\n",
    "\n",
    "        if((gdp.gdp[i]<gdp.gdp[i-1]) & (gdp.gdp[i]>gdp.gdp[i+1]) & ~now):\n",
    "            answer = gdp.quater[i]\n",
    "            now = True\n",
    "        if((gdp.gdp[i]>gdp.gdp[i-1]) & (gdp.gdp[i]<gdp.gdp[i+1]) & now):\n",
    "            now =False\n",
    "            \n",
    "    return answer\n",
    "\n",
    "get_recession_start()"
   ]
  },
  {
   "cell_type": "code",
   "execution_count": 141,
   "metadata": {
    "collapsed": false
   },
   "outputs": [
    {
     "data": {
      "text/plain": [
       "'2009q4'"
      ]
     },
     "execution_count": 141,
     "metadata": {},
     "output_type": "execute_result"
    }
   ],
   "source": [
    "def get_recession_end():\n",
    "    # answer = []\n",
    "    now = False\n",
    "    for i in range(0,len(gdp)-2):\n",
    "\n",
    "        if((gdp.gdp[i]>gdp.gdp[i+1]) & (gdp.gdp[i+1]>gdp.gdp[i+2]) & ~now):\n",
    "            now = True\n",
    "        if((gdp.gdp[i]<gdp.gdp[i+1]) & (gdp.gdp[i+1]<gdp.gdp[i+2]) & now):\n",
    "            answer = gdp.quater[i+2]\n",
    "            now = False\n",
    "            \n",
    "    return answer\n",
    "\n",
    "get_recession_end()"
   ]
  },
  {
   "cell_type": "code",
   "execution_count": 127,
   "metadata": {
    "collapsed": false
   },
   "outputs": [],
   "source": [
    "def get_recession_bottom():\n",
    "    start = get_recession_start()\n",
    "    end = get_recession_end()\n",
    "    # bottom = gdp.quater[gdp.]\n",
    "\n",
    "    answer = gdp.quater.iloc[gdp.gdp[(gdp.quater>=start) & (gdp.quater<=end)].idxmin()]\n",
    "    return answer\n",
    "\n",
    "# get_recession_bottom()"
   ]
  },
  {
   "cell_type": "code",
   "execution_count": 128,
   "metadata": {
    "collapsed": false
   },
   "outputs": [],
   "source": [
    "def convert_housing_data_to_quarters():\n",
    "    # convert_housing_data_to_quarters()\n",
    "#     def quarter_mean(x):\n",
    "#         num_quarter = int(len(x)/3.0)+1\n",
    "#         answer = pd.Series(np.zeros(num_quarter))\n",
    "#         for i in range(0, num_quarter):\n",
    "#             if(i<num_quarter-1):\n",
    "#                 answer[i] = np.mean(x[(i*3):((i+1)*3)])\n",
    "#             else:\n",
    "#                 answer[i] = np.mean(x[(i*3):])\n",
    "#         return answer\n",
    "#     temp = home.iloc[:,-200:]\n",
    "#     temp['State'] = home['State'].map(states)\n",
    "#     temp['RegionName'] = home['RegionName']\n",
    "#     # home.iloc[1]\n",
    "#     temp.set_index(['State','RegionName'],drop=True,inplace=True)\n",
    "#     temp.sort_index(inplace=True)\n",
    "\n",
    "#     answer = temp.apply(quarter_mean, axis=1)\n",
    "\n",
    "    \n",
    "    temp = home.iloc[:,-200:]\n",
    "    temp['State'] = home['State'].map(states)\n",
    "    temp['RegionName'] = home['RegionName']\n",
    "    # home.iloc[1]\n",
    "    temp.set_index(['State','RegionName'],drop=True,inplace=True)\n",
    "    temp.sort_index(inplace=True)\n",
    "    answer = temp.groupby(np.arange(temp.shape[1])//3, axis=1).apply(np.mean,1)\n",
    "    answer.rename(columns=lambda x: str(2000+int(x/4.0))+'q'+str(x%4+1),inplace=True)\n",
    "\n",
    "    return answer\n",
    "\n",
    "# convert_housing_data_to_quarters()\n",
    "\n",
    "# temp.head()\n",
    "# convert_housing_data_to_quarters()\n",
    "# # convert_housing_data_to_quarters()\n",
    "# def quarter_mean(x):\n",
    "#     num_quarter = int(len(x)/3.0)+1\n",
    "#     answer = pd.Series(np.zeros(num_quarter))\n",
    "#     for i in range(0, num_quarter):\n",
    "#         if(i<num_quarter-1):\n",
    "#             answer[i] = np.mean(x[(i*3):((i+1)*3)])\n",
    "#         else:\n",
    "#             answer[i] = np.mean(x[(i*3):])\n",
    "#     return answer\n",
    "# temp = home.iloc[:,-200:]\n",
    "# temp['State'] = home['State'].map(states)\n",
    "# temp['RegionName'] = home['RegionName']\n",
    "# # home.iloc[1]\n",
    "# temp.set_index(['State','RegionName'],drop=True,inplace=True)\n",
    "# temp.sort_index(inplace=True)\n",
    "\n",
    "# answer = temp.apply(quarter_mean, axis=1)\n",
    "\n",
    "# type(answer)\n",
    "\n",
    "# # quarter_mean(temp.iloc[0])"
   ]
  },
  {
   "cell_type": "code",
   "execution_count": 129,
   "metadata": {
    "collapsed": false
   },
   "outputs": [],
   "source": [
    "def run_ttest():\n",
    "    '''First creates new data showing the decline or growth of housing prices\n",
    "    between the recession start and the recession bottom. Then runs a ttest\n",
    "    comparing the university town values to the non-university towns values, \n",
    "    return whether the alternative hypothesis (that the two groups are the same)\n",
    "    is true or not as well as the p-value of the confidence. \n",
    "    \n",
    "    Return the tuple (different, p, better) where different=True if the t-test is\n",
    "    True at a p<0.01 (we reject the null hypothesis), or different=False if \n",
    "    otherwise (we cannot reject the null hypothesis). The variable p should\n",
    "    be equal to the exact p value returned from scipy.stats.ttest_ind(). The\n",
    "    value for better should be either \"university town\" or \"non-university town\"\n",
    "    depending on which has a lower mean price ratio (which is equivilent to a\n",
    "    reduced market loss).'''\n",
    "    \n",
    "    start = get_recession_start()\n",
    "    bottom = get_recession_end()\n",
    "    home_price = convert_housing_data_to_quarters()\n",
    "    idx = [home_price.columns.get_loc(start)-1, home_price.columns.get_loc(bottom)]\n",
    "    home_price2 = home_price.iloc[:,idx]\n",
    "    home_price2['price_ratio'] = home_price2.iloc[:,0]/home_price2.iloc[:,1]\n",
    "\n",
    "    # start\n",
    "    # bottom\n",
    "    # home_price2\n",
    "    utown_list = get_list_of_university_towns()\n",
    "    utown_price = pd.merge(home_price2, utown_list, how='inner', left_index=True, right_on=['State', 'RegionName'])\n",
    "    utown_price.reset_index(drop=True, inplace=True)\n",
    "    utown_price = utown_price['price_ratio']\n",
    "    utown_ratio = utown_price.dropna()\n",
    "\n",
    "    temp = pd.merge(home_price2, utown_list, how='left', left_index=True, right_on=['State', 'RegionName'], indicator=True)\n",
    "    non_utown_price = temp[temp['_merge']=='left_only']\n",
    "    non_utown_price.sort(['State','RegionName'],inplace=True)\n",
    "    non_utown_price.reset_index(drop=True, inplace=True)\n",
    "    non_utown_price = non_utown_price['price_ratio']\n",
    "    non_utown_ratio = non_utown_price.dropna()\n",
    "\n",
    "    # type(utown_price)\n",
    "    # type(non_utown_price)\n",
    "\n",
    "    # print(np.mean(utown_price))\n",
    "    # print(np.mean(non_utown_price))\n",
    "    # print(np.std(utown_price))\n",
    "    # print(np.std(non_utown_price))\n",
    "\n",
    "\n",
    "    test = ttest_ind(utown_ratio, non_utown_ratio)\n",
    "    if(test[1]<0.01):\n",
    "        different = True\n",
    "        better = 'university town'\n",
    "    else:\n",
    "        different = False\n",
    "        better = 'non-university town'\n",
    "        \n",
    "    answer = (different, test[1], better)\n",
    "    # utown_list\n",
    "    # len(utown_price)\n",
    "    # utown_list\n",
    "    # home[home['RegionName']=='Auburn']\n",
    "\n",
    "    # utown_list\n",
    "    # home_price2\n",
    "    # utown_price_ratio = home_price2[home_price2.index.isin(utown_list)]\n",
    "    # home_price2[home_price2.index == {'Alabama','Auburn'}]\n",
    "\n",
    "    # utown_price_ratio\n",
    "    # utown_list\n",
    "    # home_price2\n",
    "    # utown_price_ratio = home_price2\n",
    "\n",
    "    # home_price.columns\n",
    "    # idx\n",
    "    \n",
    "    return answer\n",
    "\n",
    "# run_ttest()"
   ]
  },
  {
   "cell_type": "code",
   "execution_count": null,
   "metadata": {
    "collapsed": false
   },
   "outputs": [],
   "source": []
  },
  {
   "cell_type": "code",
   "execution_count": null,
   "metadata": {
    "collapsed": true
   },
   "outputs": [],
   "source": []
  },
  {
   "cell_type": "code",
   "execution_count": null,
   "metadata": {
    "collapsed": true
   },
   "outputs": [],
   "source": []
  }
 ],
 "metadata": {
  "coursera": {
   "course_slug": "python-data-analysis",
   "graded_item_id": "Il9Fx",
   "launcher_item_id": "TeDW0",
   "part_id": "WGlun"
  },
  "kernelspec": {
   "display_name": "Python 3",
   "language": "python",
   "name": "python3"
  },
  "language_info": {
   "codemirror_mode": {
    "name": "ipython",
    "version": 3
   },
   "file_extension": ".py",
   "mimetype": "text/x-python",
   "name": "python",
   "nbconvert_exporter": "python",
   "pygments_lexer": "ipython3",
   "version": "3.5.2"
  }
 },
 "nbformat": 4,
 "nbformat_minor": 0
}
